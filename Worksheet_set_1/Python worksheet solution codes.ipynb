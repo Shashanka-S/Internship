{
 "cells": [
  {
   "cell_type": "markdown",
   "id": "8ad64b74",
   "metadata": {},
   "source": [
    "1) Write a python program to find the factorial of a number."
   ]
  },
  {
   "cell_type": "code",
   "execution_count": 1,
   "id": "e65b08bb",
   "metadata": {},
   "outputs": [],
   "source": [
    "# Approach 1:\n",
    " \n",
    "def factorial(num):                                  #defining the function\n",
    "    \n",
    "    if (num < 0) or (type(num) != int):              #Restricting entry of negative numbers\n",
    "        print(\"Please enter a positive integer\")\n",
    "        \n",
    "    elif (num == 0) or (num == 1):                  #Factorial of 0 is 1 and factorial for 1 is 1\n",
    "        return 1\n",
    "        \n",
    "    else:\n",
    "        return (num * factorial(num-1))             #Using recursive logic"
   ]
  },
  {
   "cell_type": "code",
   "execution_count": 2,
   "id": "c8428b1c",
   "metadata": {},
   "outputs": [
    {
     "data": {
      "text/plain": [
       "120"
      ]
     },
     "execution_count": 2,
     "metadata": {},
     "output_type": "execute_result"
    }
   ],
   "source": [
    "factorial(5)                                        #Calling the function    "
   ]
  },
  {
   "cell_type": "code",
   "execution_count": 3,
   "id": "69702395",
   "metadata": {},
   "outputs": [
    {
     "name": "stdout",
     "output_type": "stream",
     "text": [
      "Enter a positive number 5\n",
      "Factorial of  5  =  120\n"
     ]
    }
   ],
   "source": [
    "# Approach 2: Taking inputs from user\n",
    "\n",
    "num = int(input(\"Enter a positive number \"))\n",
    "\n",
    "if (num < 0) or (type(num) != int):                 #Restricting entry of negative numbers\n",
    "        print(\"Please enter a positive integer\")\n",
    "        \n",
    "elif (num == 0) or (num == 1):                      #Factorial of 0 is 1 and factorial for 1 is 1\n",
    "    print(\"Factorial of given number is \", 1)\n",
    "        \n",
    "else:\n",
    "    factorial = 1\n",
    "    for i in range(1,num+1):                        #Conventional method using for loop\n",
    "        factorial *= i \n",
    "        \n",
    "print(\"Factorial of \",num,\" = \", factorial)"
   ]
  },
  {
   "cell_type": "code",
   "execution_count": null,
   "id": "6a5f78f3",
   "metadata": {},
   "outputs": [],
   "source": []
  },
  {
   "cell_type": "markdown",
   "id": "b1646e5a",
   "metadata": {},
   "source": [
    "2) Write a python program to find whether a number is prime or composite."
   ]
  },
  {
   "cell_type": "code",
   "execution_count": 4,
   "id": "75de7a65",
   "metadata": {},
   "outputs": [],
   "source": [
    "#Approach 1:\n",
    "\n",
    "def Prime_or_composite(num):                            #defining the function\n",
    "    \n",
    "    if (num < 0) or (type(num) != int):                 #Restricting entry of negative numbers and non integer values\n",
    "        print(\"Please enter a positive integer\")\n",
    "        \n",
    "    elif (num == 0) or (num == 1): \n",
    "        print(\"The number is neither prime nor composite\")\n",
    "        \n",
    "    else:\n",
    "        for i in range (2,num):                        #i taking values from 2 to num-1\n",
    "            if num%i == 0:                             # modulus function will fetch remainder as 0 if divisible\n",
    "                print(\"Number is composite\")\n",
    "                break;\n",
    "        else:\n",
    "            print(\"Number is prime\")"
   ]
  },
  {
   "cell_type": "code",
   "execution_count": 5,
   "id": "75326aa3",
   "metadata": {},
   "outputs": [
    {
     "name": "stdout",
     "output_type": "stream",
     "text": [
      "Number is prime\n"
     ]
    }
   ],
   "source": [
    "Prime_or_composite(17)                                 #Calling the function"
   ]
  },
  {
   "cell_type": "code",
   "execution_count": 6,
   "id": "ce704cfb",
   "metadata": {},
   "outputs": [
    {
     "name": "stdout",
     "output_type": "stream",
     "text": [
      "Enter a positive number 4\n",
      "Number is composite\n"
     ]
    }
   ],
   "source": [
    "#Approach 2: Taking input from user\n",
    "\n",
    "num = int(input(\"Enter a positive number \"))\n",
    "\n",
    "if (num < 0) or (type(num) != int):                        #Restricting entry of negative numbers and non integer values\n",
    "    print(\"Please enter a positive integer\")\n",
    "        \n",
    "elif (num == 0) or (num == 1):\n",
    "    print(\"The number is neither prime nor composite\")\n",
    "\n",
    "else:\n",
    "    for i in range (2,num):                               #i taking values from 2 to num-1\n",
    "        if num%i == 0:                                    # modulus function will fetch remainder as 0 if divisible\n",
    "            print(\"Number is composite\")\n",
    "            break;\n",
    "    else:\n",
    "        print(\"Number is prime\")"
   ]
  },
  {
   "cell_type": "code",
   "execution_count": null,
   "id": "10c83ba8",
   "metadata": {},
   "outputs": [],
   "source": []
  },
  {
   "cell_type": "markdown",
   "id": "34a52175",
   "metadata": {},
   "source": [
    "3) Write a python program to check whether a given string is palindrome or not."
   ]
  },
  {
   "cell_type": "code",
   "execution_count": 7,
   "id": "456a208b",
   "metadata": {},
   "outputs": [],
   "source": [
    "#Approach 1:\n",
    "\n",
    "def palindrome_or_not(word):                       #defining the function\n",
    "    \n",
    "    if (word == word[::-1]):                       #comparing by reversing or mirror\n",
    "        print(\"Yes given word is palindrome\")\n",
    "        \n",
    "    else:\n",
    "        print(\"Not a palindrome\")"
   ]
  },
  {
   "cell_type": "code",
   "execution_count": 8,
   "id": "606e8f4d",
   "metadata": {},
   "outputs": [
    {
     "name": "stdout",
     "output_type": "stream",
     "text": [
      "Yes given word is palindrome\n"
     ]
    }
   ],
   "source": [
    "palindrome_or_not('MALAYALAM')                    #Calling the function"
   ]
  },
  {
   "cell_type": "code",
   "execution_count": 11,
   "id": "219621a8",
   "metadata": {},
   "outputs": [
    {
     "name": "stdout",
     "output_type": "stream",
     "text": [
      "Enter a word HAHAAHAH\n",
      "Yes given word is palindrome\n"
     ]
    }
   ],
   "source": [
    "#Approach 2: Taking input from user\n",
    "\n",
    "word = str(input(\"Enter a word \"))\n",
    "\n",
    "if (word == word[::-1]):                          #comparing by reversing or mirror\n",
    "    print(\"Yes given word is palindrome\")\n",
    "        \n",
    "else:\n",
    "    print(\"Not a palindrome\")"
   ]
  },
  {
   "cell_type": "code",
   "execution_count": null,
   "id": "17760e7b",
   "metadata": {},
   "outputs": [],
   "source": []
  },
  {
   "cell_type": "markdown",
   "id": "790ceb75",
   "metadata": {},
   "source": [
    "4) Write a Python program to get the third side of right-angled triangle from two given sides."
   ]
  },
  {
   "cell_type": "code",
   "execution_count": 12,
   "id": "5ec8e38b",
   "metadata": {},
   "outputs": [],
   "source": [
    "#Approach 1:\n",
    "\n",
    "def third_side(opp,base,hyp):                          #defining the function\n",
    "    \n",
    "    if (opp == 'x'):                                   #if opposite side is unknown\n",
    "        opp = (hyp**2 - base**2)**0.5\n",
    "        print(\"The unknown third side x = \",opp)\n",
    "    \n",
    "    elif (base == 'x'):                                #if base side is unknown\n",
    "        base = (hyp**2 - opp**2)**0.5\n",
    "        print(\"The unknown third side x = \",base)\n",
    "          \n",
    "    elif (hyp == 'x'):                                 #if hypotenuse side is unknown\n",
    "        hyp = (opp**2 +  base**2)**0.5\n",
    "        print(\"The unknown third side x = \",hyp)\n",
    "        \n",
    "    else:                                             #if all 3 sides are known\n",
    "        print('You already know the third side') "
   ]
  },
  {
   "cell_type": "code",
   "execution_count": 13,
   "id": "ca5ebf77",
   "metadata": {},
   "outputs": [
    {
     "name": "stdout",
     "output_type": "stream",
     "text": [
      "The unknown third side x =  5.0\n"
     ]
    }
   ],
   "source": [
    "third_side(3,4,'x')                                   #calling the function"
   ]
  },
  {
   "cell_type": "code",
   "execution_count": 14,
   "id": "7c69822d",
   "metadata": {},
   "outputs": [
    {
     "name": "stdout",
     "output_type": "stream",
     "text": [
      "Note: If unknown enter 0\n",
      "\n",
      "Enter opposite side length or height 4\n",
      "Enter base side length 3\n",
      "Enter hypotenuse length 0\n",
      "The unknown third side length = 5.0\n"
     ]
    }
   ],
   "source": [
    "#Approach 2: Taking inputs from user\n",
    "\n",
    "opp = float(input('Note: If unknown enter 0\\n\\nEnter opposite side length or height '))\n",
    "base = float(input('Enter base side length '))\n",
    "hyp = float(input('Enter hypotenuse length '))\n",
    "\n",
    "if (opp == 0):                                       #if opposite side is unknown\n",
    "    opp = (hyp**2 - base**2)**0.5\n",
    "    print(\"The unknown third side x = \",opp)\n",
    "    \n",
    "elif (base == 0):                                    #if base side is unknown\n",
    "    base = (hyp**2 - opp**2)**0.5\n",
    "    print(\"The unknown third side x = \",base)\n",
    "        \n",
    "elif (hyp == 0):                                     #if hypotenuse side is unknown\n",
    "    hyp = (opp**2 +  base**2)**0.5\n",
    "    print(\"The unknown third side length =\", hyp)\n",
    "        \n",
    "else:                                                #if all 3 sides are known\n",
    "    print('You already know the third side')"
   ]
  },
  {
   "cell_type": "code",
   "execution_count": null,
   "id": "3cec79e9",
   "metadata": {},
   "outputs": [],
   "source": []
  },
  {
   "cell_type": "markdown",
   "id": "14475153",
   "metadata": {},
   "source": [
    "5) Write a python program to print the frequency of each of the characters present in a given string."
   ]
  },
  {
   "cell_type": "code",
   "execution_count": 15,
   "id": "57aacb81",
   "metadata": {},
   "outputs": [],
   "source": [
    "#Approach 1:\n",
    "\n",
    "def freq_char(string,character):                           #defining the function\n",
    "    \n",
    "    count = 0                                              #initializing a variable\n",
    "    \n",
    "    for i in range(len(string)):                           #loop to count number of repetitions\n",
    "        if(string[i] == character):\n",
    "            count += 1\n",
    "            \n",
    "    print(\"The frequency of the\",character,\"in\",string ,\"is:\",count)"
   ]
  },
  {
   "cell_type": "code",
   "execution_count": 16,
   "id": "0f7d8549",
   "metadata": {},
   "outputs": [
    {
     "name": "stdout",
     "output_type": "stream",
     "text": [
      "The frequency of the s in Mississippi is: 4\n"
     ]
    }
   ],
   "source": [
    "freq_char('Mississippi','s')                               #calling the function"
   ]
  },
  {
   "cell_type": "code",
   "execution_count": 20,
   "id": "2625e45d",
   "metadata": {},
   "outputs": [
    {
     "name": "stdout",
     "output_type": "stream",
     "text": [
      "Enter a string: shashank\n",
      "Enter a character from this string: s\n",
      "The frequency of the character s in shashank is: 2\n"
     ]
    }
   ],
   "source": [
    "#Approach 2: Taking inputs from user\n",
    "\n",
    "string = str(input(\"Enter a string: \"))                  \n",
    "character = str(input(\"Enter a character from this string: \"))\n",
    "\n",
    "count = 0                                                   #initializing a variable\n",
    "    \n",
    "for i in range(len(string)):                                #loop to count number of repetitions\n",
    "    if(string[i] == character):\n",
    "        count += 1\n",
    "            \n",
    "print(\"The frequency of the character\",character,\"in\",string ,\"is:\",count)"
   ]
  }
 ],
 "metadata": {
  "kernelspec": {
   "display_name": "Python 3",
   "language": "python",
   "name": "python3"
  },
  "language_info": {
   "codemirror_mode": {
    "name": "ipython",
    "version": 3
   },
   "file_extension": ".py",
   "mimetype": "text/x-python",
   "name": "python",
   "nbconvert_exporter": "python",
   "pygments_lexer": "ipython3",
   "version": "3.8.8"
  }
 },
 "nbformat": 4,
 "nbformat_minor": 5
}
